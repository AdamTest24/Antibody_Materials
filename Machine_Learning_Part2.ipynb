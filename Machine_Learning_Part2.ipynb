{
 "cells": [
  {
   "cell_type": "markdown",
   "metadata": {},
   "source": [
    "## Improving the Performance of Machine Learning Predictors\n",
    "\n",
    "When a machine learning predictor is performing well, there is always the possibility of improving its performance through hyperparameterisation. This means editing its parameters until a maximum score and optimisation are reached. This is usually done through either GridSearchCV, which does this using a reference grid and systematically compares each combination with every other; or RandomSearchCV - which is more stochastic and, instead, samples from ranges which may be applied to each parameter. Here we will apply the GridSearchCV on both the SVC2 and RandomForestClassifier predictor, in order to try and increase its performance on our dataset.\n",
    "\n",
    "It is important to know that not all classifiers have the capacity for GridSearchCV.\n",
    "\n",
    "N.B. These processes will likely take a few minutes."
   ]
  },
  {
   "cell_type": "code",
   "execution_count": 3,
   "metadata": {},
   "outputs": [],
   "source": [
    "##Get Encodings###\n",
    "import sys\n",
    "import pandas as pd\n",
    "from pandas import read_csv\n",
    "sys.path.append('../src/')\n",
    "sys.path.append('')\n",
    "#from propythia.sequence import ReadSequence\n",
    "#sequence=ReadSequence()\n",
    "#from propythia.descriptors import Descriptor\n",
    "\n",
    "\n",
    "##Data preparation###\n",
    "from sklearn.utils import check_random_state, shuffle\n",
    "from sklearn.model_selection import train_test_split\n",
    "from sklearn.model_selection import StratifiedShuffleSplit\n",
    "from sklearn.preprocessing import StandardScaler\n",
    "import numpy as np\n",
    "from numpy import pi, linspace, cos, sin, append, ones, zeros, hstack, vstack, intp\n",
    "from numpy import mgrid, linspace, c_, arange, mean, array\n",
    "from numpy.random import uniform, seed\n",
    "\n",
    "\n",
    "\n",
    "##Machine Learning Models###\n",
    "from sklearn.neural_network import MLPClassifier\n",
    "from sklearn.neighbors import KNeighborsClassifier\n",
    "from sklearn.svm import SVC\n",
    "from sklearn.gaussian_process import GaussianProcessClassifier\n",
    "from sklearn.gaussian_process.kernels import RBF\n",
    "from sklearn.tree import DecisionTreeClassifier\n",
    "from sklearn.ensemble import RandomForestClassifier, AdaBoostClassifier\n",
    "from sklearn.naive_bayes import GaussianNB\n",
    "from sklearn.discriminant_analysis import QuadraticDiscriminantAnalysis\n",
    "from sklearn.mixture import GaussianMixture\n",
    "from sklearn.cluster import KMeans\n",
    "from sklearn.cluster import DBSCAN\n",
    "from sklearn.cluster import SpectralClustering\n",
    "from sklearn.cluster import AffinityPropagation\n",
    "\n",
    "\n",
    "##Plotting Results###\n",
    "import matplotlib.pyplot as plt\n",
    "from matplotlib.ticker import LinearLocator, FormatStrFormatter\n",
    "from mpl_toolkits import mplot3d\n",
    "from matplotlib.pyplot import subplots, axes, scatter, xticks\n",
    "from matplotlib.colors import ListedColormap\n",
    "import seaborn as sns\n",
    "from sklearn.metrics import confusion_matrix\n",
    "#from sklearn.metrics import plot_confusion_matrix\n",
    "from sklearn.metrics.cluster import adjusted_rand_score\n",
    "from sklearn import metrics\n",
    "from sklearn.metrics import matthews_corrcoef\n",
    "\n",
    "\n",
    "##Model Optimisation###\n",
    "from sklearn.decomposition import PCA\n",
    "from sklearn.model_selection import GridSearchCV\n",
    "from sklearn.metrics import make_scorer\n"
   ]
  },
  {
   "cell_type": "code",
   "execution_count": 6,
   "metadata": {},
   "outputs": [
    {
     "name": "stdout",
     "output_type": "stream",
     "text": [
      "Training set size:  (1400, 890)        Test set size:  (600, 890)\n"
     ]
    },
    {
     "name": "stderr",
     "output_type": "stream",
     "text": [
      "/Users/james/anaconda3/lib/python3.10/site-packages/sklearn/discriminant_analysis.py:926: UserWarning: Variables are collinear\n",
      "  warnings.warn(\"Variables are collinear\")\n"
     ]
    }
   ],
   "source": [
    "##Get variables##\n",
    "joined_dataframe_VH_VL = read_csv('./HumanMouseOAS_VH_VL_paired_data.faa_Full_descriptors.csv', header = 0)\n",
    "RANDOM_SEED = 0\n",
    "#Prepare training data and labels\n",
    "labels1 = 1000*[1] ##Human antibodies will be class 1\n",
    "labels2 = 1000*[0] ## Mouse antibodies will be class 0\n",
    "y = labels1+labels2\n",
    "dataset = joined_dataframe_VH_VL\n",
    "dataset=dataset.loc[:, dataset.columns != 'Unnamed: 0']\n",
    "classifiers = {\n",
    "    'SVC':SVC(kernel=\"linear\", C=0.025),\n",
    "    'SVC2': SVC(gamma=2, C=1),\n",
    "    'DecisionTree': DecisionTreeClassifier(max_depth=5),\n",
    "    'RFC': RandomForestClassifier(max_depth=5, n_estimators=10, max_features=1),\n",
    "    'MLPC': MLPClassifier(alpha=1, max_iter=1000),\n",
    "    'ADABoost':AdaBoostClassifier(),\n",
    "    'GaussianNB': GaussianNB(),\n",
    "    'QDA':QuadraticDiscriminantAnalysis(),\n",
    "}\n",
    "\n",
    "\n",
    "\n",
    "X_train, X_test, y_train, y_test = train_test_split(dataset, y, test_size=.3, random_state=RANDOM_SEED, shuffle=True)\n",
    "num_rows, num_cols = dataset.shape\n",
    "print(\"Training set size: \", X_train.shape, \"       Test set size: \", X_test.shape)\n",
    "scores = []\n",
    "\n",
    "for i in classifiers:\n",
    "    clf_1 = classifiers.get(i)\n",
    "    clf_1.fit(X_train,y_train)\n",
    "    y_predict1 = clf_1.predict(X_test)\n",
    "    scoring = matthews_corrcoef(y_test, y_predict1)\n",
    "    scores.append(scoring) \n",
    "\n"
   ]
  },
  {
   "cell_type": "code",
   "execution_count": 7,
   "metadata": {},
   "outputs": [
    {
     "name": "stdout",
     "output_type": "stream",
     "text": [
      "Fitting 5 folds for each of 2 candidates, totalling 10 fits\n"
     ]
    },
    {
     "name": "stdout",
     "output_type": "stream",
     "text": [
      "[CV] END ...................................C=1, gamma=0.001; total time=   2.2s\n",
      "[CV] END ...................................C=1, gamma=0.001; total time=   2.2s\n",
      "[CV] END ...................................C=1, gamma=0.001; total time=   2.3s\n",
      "[CV] END .......................................C=1, gamma=1; total time=   2.3s\n",
      "[CV] END .......................................C=1, gamma=1; total time=   2.3s\n",
      "[CV] END .......................................C=1, gamma=1; total time=   2.3s\n",
      "[CV] END .......................................C=1, gamma=1; total time=   2.3s\n",
      "[CV] END .......................................C=1, gamma=1; total time=   2.3s\n",
      "[CV] END ...................................C=1, gamma=0.001; total time=   0.8s\n",
      "[CV] END ...................................C=1, gamma=0.001; total time=   0.8s\n"
     ]
    },
    {
     "data": {
      "text/html": [
       "<style>#sk-container-id-1 {color: black;background-color: white;}#sk-container-id-1 pre{padding: 0;}#sk-container-id-1 div.sk-toggleable {background-color: white;}#sk-container-id-1 label.sk-toggleable__label {cursor: pointer;display: block;width: 100%;margin-bottom: 0;padding: 0.3em;box-sizing: border-box;text-align: center;}#sk-container-id-1 label.sk-toggleable__label-arrow:before {content: \"▸\";float: left;margin-right: 0.25em;color: #696969;}#sk-container-id-1 label.sk-toggleable__label-arrow:hover:before {color: black;}#sk-container-id-1 div.sk-estimator:hover label.sk-toggleable__label-arrow:before {color: black;}#sk-container-id-1 div.sk-toggleable__content {max-height: 0;max-width: 0;overflow: hidden;text-align: left;background-color: #f0f8ff;}#sk-container-id-1 div.sk-toggleable__content pre {margin: 0.2em;color: black;border-radius: 0.25em;background-color: #f0f8ff;}#sk-container-id-1 input.sk-toggleable__control:checked~div.sk-toggleable__content {max-height: 200px;max-width: 100%;overflow: auto;}#sk-container-id-1 input.sk-toggleable__control:checked~label.sk-toggleable__label-arrow:before {content: \"▾\";}#sk-container-id-1 div.sk-estimator input.sk-toggleable__control:checked~label.sk-toggleable__label {background-color: #d4ebff;}#sk-container-id-1 div.sk-label input.sk-toggleable__control:checked~label.sk-toggleable__label {background-color: #d4ebff;}#sk-container-id-1 input.sk-hidden--visually {border: 0;clip: rect(1px 1px 1px 1px);clip: rect(1px, 1px, 1px, 1px);height: 1px;margin: -1px;overflow: hidden;padding: 0;position: absolute;width: 1px;}#sk-container-id-1 div.sk-estimator {font-family: monospace;background-color: #f0f8ff;border: 1px dotted black;border-radius: 0.25em;box-sizing: border-box;margin-bottom: 0.5em;}#sk-container-id-1 div.sk-estimator:hover {background-color: #d4ebff;}#sk-container-id-1 div.sk-parallel-item::after {content: \"\";width: 100%;border-bottom: 1px solid gray;flex-grow: 1;}#sk-container-id-1 div.sk-label:hover label.sk-toggleable__label {background-color: #d4ebff;}#sk-container-id-1 div.sk-serial::before {content: \"\";position: absolute;border-left: 1px solid gray;box-sizing: border-box;top: 0;bottom: 0;left: 50%;z-index: 0;}#sk-container-id-1 div.sk-serial {display: flex;flex-direction: column;align-items: center;background-color: white;padding-right: 0.2em;padding-left: 0.2em;position: relative;}#sk-container-id-1 div.sk-item {position: relative;z-index: 1;}#sk-container-id-1 div.sk-parallel {display: flex;align-items: stretch;justify-content: center;background-color: white;position: relative;}#sk-container-id-1 div.sk-item::before, #sk-container-id-1 div.sk-parallel-item::before {content: \"\";position: absolute;border-left: 1px solid gray;box-sizing: border-box;top: 0;bottom: 0;left: 50%;z-index: -1;}#sk-container-id-1 div.sk-parallel-item {display: flex;flex-direction: column;z-index: 1;position: relative;background-color: white;}#sk-container-id-1 div.sk-parallel-item:first-child::after {align-self: flex-end;width: 50%;}#sk-container-id-1 div.sk-parallel-item:last-child::after {align-self: flex-start;width: 50%;}#sk-container-id-1 div.sk-parallel-item:only-child::after {width: 0;}#sk-container-id-1 div.sk-dashed-wrapped {border: 1px dashed gray;margin: 0 0.4em 0.5em 0.4em;box-sizing: border-box;padding-bottom: 0.4em;background-color: white;}#sk-container-id-1 div.sk-label label {font-family: monospace;font-weight: bold;display: inline-block;line-height: 1.2em;}#sk-container-id-1 div.sk-label-container {text-align: center;}#sk-container-id-1 div.sk-container {/* jupyter's `normalize.less` sets `[hidden] { display: none; }` but bootstrap.min.css set `[hidden] { display: none !important; }` so we also need the `!important` here to be able to override the default hidden behavior on the sphinx rendered scikit-learn.org. See: https://github.com/scikit-learn/scikit-learn/issues/21755 */display: inline-block !important;position: relative;}#sk-container-id-1 div.sk-text-repr-fallback {display: none;}</style><div id=\"sk-container-id-1\" class=\"sk-top-container\"><div class=\"sk-text-repr-fallback\"><pre>GridSearchCV(estimator=SVC(), n_jobs=-1,\n",
       "             param_grid={&#x27;C&#x27;: [1], &#x27;gamma&#x27;: [1, 0.001]}, verbose=2)</pre><b>In a Jupyter environment, please rerun this cell to show the HTML representation or trust the notebook. <br />On GitHub, the HTML representation is unable to render, please try loading this page with nbviewer.org.</b></div><div class=\"sk-container\" hidden><div class=\"sk-item sk-dashed-wrapped\"><div class=\"sk-label-container\"><div class=\"sk-label sk-toggleable\"><input class=\"sk-toggleable__control sk-hidden--visually\" id=\"sk-estimator-id-1\" type=\"checkbox\" ><label for=\"sk-estimator-id-1\" class=\"sk-toggleable__label sk-toggleable__label-arrow\">GridSearchCV</label><div class=\"sk-toggleable__content\"><pre>GridSearchCV(estimator=SVC(), n_jobs=-1,\n",
       "             param_grid={&#x27;C&#x27;: [1], &#x27;gamma&#x27;: [1, 0.001]}, verbose=2)</pre></div></div></div><div class=\"sk-parallel\"><div class=\"sk-parallel-item\"><div class=\"sk-item\"><div class=\"sk-label-container\"><div class=\"sk-label sk-toggleable\"><input class=\"sk-toggleable__control sk-hidden--visually\" id=\"sk-estimator-id-2\" type=\"checkbox\" ><label for=\"sk-estimator-id-2\" class=\"sk-toggleable__label sk-toggleable__label-arrow\">estimator: SVC</label><div class=\"sk-toggleable__content\"><pre>SVC()</pre></div></div></div><div class=\"sk-serial\"><div class=\"sk-item\"><div class=\"sk-estimator sk-toggleable\"><input class=\"sk-toggleable__control sk-hidden--visually\" id=\"sk-estimator-id-3\" type=\"checkbox\" ><label for=\"sk-estimator-id-3\" class=\"sk-toggleable__label sk-toggleable__label-arrow\">SVC</label><div class=\"sk-toggleable__content\"><pre>SVC()</pre></div></div></div></div></div></div></div></div></div></div>"
      ],
      "text/plain": [
       "GridSearchCV(estimator=SVC(), n_jobs=-1,\n",
       "             param_grid={'C': [1], 'gamma': [1, 0.001]}, verbose=2)"
      ]
     },
     "execution_count": 7,
     "metadata": {},
     "output_type": "execute_result"
    }
   ],
   "source": [
    "##GridsearchCV of SVC2 Model####\n",
    "param_grid = {'C':[1],\n",
    "              'gamma':[1,0.001],\n",
    "}\n",
    "\n",
    "svc = SVC()\n",
    "svc_grid_search = GridSearchCV(estimator = svc, param_grid=  param_grid,\n",
    "                               refit = True, n_jobs = -1,verbose = 2)\n",
    "svc_grid_search.fit(X_train,y_train)\n"
   ]
  },
  {
   "cell_type": "code",
   "execution_count": 8,
   "metadata": {},
   "outputs": [
    {
     "name": "stdout",
     "output_type": "stream",
     "text": [
      "Fitting 3 folds for each of 8 candidates, totalling 24 fits\n",
      "[CV] END activation=tanh, alpha=0.0001, learning_rate=adaptive; total time=   1.4s\n",
      "[CV] END activation=tanh, alpha=0.0001, learning_rate=constant; total time=   1.7s\n",
      "[CV] END activation=tanh, alpha=0.0001, learning_rate=adaptive; total time=   1.8s\n",
      "[CV] END activation=tanh, alpha=0.05, learning_rate=constant; total time=   1.9s\n",
      "[CV] END activation=tanh, alpha=0.0001, learning_rate=constant; total time=   2.2s\n",
      "[CV] END activation=tanh, alpha=0.05, learning_rate=constant; total time=   2.6s\n",
      "[CV] END activation=tanh, alpha=0.0001, learning_rate=constant; total time=   2.7s\n",
      "[CV] END activation=tanh, alpha=0.05, learning_rate=constant; total time=   1.7s\n",
      "[CV] END activation=tanh, alpha=0.05, learning_rate=adaptive; total time=   1.6s\n",
      "[CV] END activation=tanh, alpha=0.0001, learning_rate=adaptive; total time=   3.6s\n",
      "[CV] END activation=tanh, alpha=0.05, learning_rate=adaptive; total time=   1.8s\n",
      "[CV] END activation=tanh, alpha=0.05, learning_rate=adaptive; total time=   2.5s\n",
      "[CV] END activation=relu, alpha=0.0001, learning_rate=constant; total time=   2.4s\n",
      "[CV] END activation=relu, alpha=0.0001, learning_rate=constant; total time=   2.1s\n",
      "[CV] END activation=relu, alpha=0.0001, learning_rate=adaptive; total time=   2.1s\n",
      "[CV] END activation=relu, alpha=0.0001, learning_rate=constant; total time=   3.0s\n",
      "[CV] END activation=relu, alpha=0.0001, learning_rate=adaptive; total time=   2.2s\n",
      "[CV] END activation=relu, alpha=0.0001, learning_rate=adaptive; total time=   2.8s\n",
      "[CV] END activation=relu, alpha=0.05, learning_rate=constant; total time=   2.8s\n",
      "[CV] END activation=relu, alpha=0.05, learning_rate=adaptive; total time=   2.4s\n",
      "[CV] END activation=relu, alpha=0.05, learning_rate=constant; total time=   2.7s\n",
      "[CV] END activation=relu, alpha=0.05, learning_rate=constant; total time=   3.6s\n",
      "[CV] END activation=relu, alpha=0.05, learning_rate=adaptive; total time=   2.1s\n",
      "[CV] END activation=relu, alpha=0.05, learning_rate=adaptive; total time=   2.6s\n"
     ]
    },
    {
     "data": {
      "text/html": [
       "<style>#sk-container-id-2 {color: black;background-color: white;}#sk-container-id-2 pre{padding: 0;}#sk-container-id-2 div.sk-toggleable {background-color: white;}#sk-container-id-2 label.sk-toggleable__label {cursor: pointer;display: block;width: 100%;margin-bottom: 0;padding: 0.3em;box-sizing: border-box;text-align: center;}#sk-container-id-2 label.sk-toggleable__label-arrow:before {content: \"▸\";float: left;margin-right: 0.25em;color: #696969;}#sk-container-id-2 label.sk-toggleable__label-arrow:hover:before {color: black;}#sk-container-id-2 div.sk-estimator:hover label.sk-toggleable__label-arrow:before {color: black;}#sk-container-id-2 div.sk-toggleable__content {max-height: 0;max-width: 0;overflow: hidden;text-align: left;background-color: #f0f8ff;}#sk-container-id-2 div.sk-toggleable__content pre {margin: 0.2em;color: black;border-radius: 0.25em;background-color: #f0f8ff;}#sk-container-id-2 input.sk-toggleable__control:checked~div.sk-toggleable__content {max-height: 200px;max-width: 100%;overflow: auto;}#sk-container-id-2 input.sk-toggleable__control:checked~label.sk-toggleable__label-arrow:before {content: \"▾\";}#sk-container-id-2 div.sk-estimator input.sk-toggleable__control:checked~label.sk-toggleable__label {background-color: #d4ebff;}#sk-container-id-2 div.sk-label input.sk-toggleable__control:checked~label.sk-toggleable__label {background-color: #d4ebff;}#sk-container-id-2 input.sk-hidden--visually {border: 0;clip: rect(1px 1px 1px 1px);clip: rect(1px, 1px, 1px, 1px);height: 1px;margin: -1px;overflow: hidden;padding: 0;position: absolute;width: 1px;}#sk-container-id-2 div.sk-estimator {font-family: monospace;background-color: #f0f8ff;border: 1px dotted black;border-radius: 0.25em;box-sizing: border-box;margin-bottom: 0.5em;}#sk-container-id-2 div.sk-estimator:hover {background-color: #d4ebff;}#sk-container-id-2 div.sk-parallel-item::after {content: \"\";width: 100%;border-bottom: 1px solid gray;flex-grow: 1;}#sk-container-id-2 div.sk-label:hover label.sk-toggleable__label {background-color: #d4ebff;}#sk-container-id-2 div.sk-serial::before {content: \"\";position: absolute;border-left: 1px solid gray;box-sizing: border-box;top: 0;bottom: 0;left: 50%;z-index: 0;}#sk-container-id-2 div.sk-serial {display: flex;flex-direction: column;align-items: center;background-color: white;padding-right: 0.2em;padding-left: 0.2em;position: relative;}#sk-container-id-2 div.sk-item {position: relative;z-index: 1;}#sk-container-id-2 div.sk-parallel {display: flex;align-items: stretch;justify-content: center;background-color: white;position: relative;}#sk-container-id-2 div.sk-item::before, #sk-container-id-2 div.sk-parallel-item::before {content: \"\";position: absolute;border-left: 1px solid gray;box-sizing: border-box;top: 0;bottom: 0;left: 50%;z-index: -1;}#sk-container-id-2 div.sk-parallel-item {display: flex;flex-direction: column;z-index: 1;position: relative;background-color: white;}#sk-container-id-2 div.sk-parallel-item:first-child::after {align-self: flex-end;width: 50%;}#sk-container-id-2 div.sk-parallel-item:last-child::after {align-self: flex-start;width: 50%;}#sk-container-id-2 div.sk-parallel-item:only-child::after {width: 0;}#sk-container-id-2 div.sk-dashed-wrapped {border: 1px dashed gray;margin: 0 0.4em 0.5em 0.4em;box-sizing: border-box;padding-bottom: 0.4em;background-color: white;}#sk-container-id-2 div.sk-label label {font-family: monospace;font-weight: bold;display: inline-block;line-height: 1.2em;}#sk-container-id-2 div.sk-label-container {text-align: center;}#sk-container-id-2 div.sk-container {/* jupyter's `normalize.less` sets `[hidden] { display: none; }` but bootstrap.min.css set `[hidden] { display: none !important; }` so we also need the `!important` here to be able to override the default hidden behavior on the sphinx rendered scikit-learn.org. See: https://github.com/scikit-learn/scikit-learn/issues/21755 */display: inline-block !important;position: relative;}#sk-container-id-2 div.sk-text-repr-fallback {display: none;}</style><div id=\"sk-container-id-2\" class=\"sk-top-container\"><div class=\"sk-text-repr-fallback\"><pre>GridSearchCV(cv=3, estimator=MLPClassifier(), n_jobs=-1,\n",
       "             param_grid={&#x27;activation&#x27;: [&#x27;tanh&#x27;, &#x27;relu&#x27;],\n",
       "                         &#x27;alpha&#x27;: [0.0001, 0.05],\n",
       "                         &#x27;learning_rate&#x27;: [&#x27;constant&#x27;, &#x27;adaptive&#x27;]},\n",
       "             verbose=2)</pre><b>In a Jupyter environment, please rerun this cell to show the HTML representation or trust the notebook. <br />On GitHub, the HTML representation is unable to render, please try loading this page with nbviewer.org.</b></div><div class=\"sk-container\" hidden><div class=\"sk-item sk-dashed-wrapped\"><div class=\"sk-label-container\"><div class=\"sk-label sk-toggleable\"><input class=\"sk-toggleable__control sk-hidden--visually\" id=\"sk-estimator-id-4\" type=\"checkbox\" ><label for=\"sk-estimator-id-4\" class=\"sk-toggleable__label sk-toggleable__label-arrow\">GridSearchCV</label><div class=\"sk-toggleable__content\"><pre>GridSearchCV(cv=3, estimator=MLPClassifier(), n_jobs=-1,\n",
       "             param_grid={&#x27;activation&#x27;: [&#x27;tanh&#x27;, &#x27;relu&#x27;],\n",
       "                         &#x27;alpha&#x27;: [0.0001, 0.05],\n",
       "                         &#x27;learning_rate&#x27;: [&#x27;constant&#x27;, &#x27;adaptive&#x27;]},\n",
       "             verbose=2)</pre></div></div></div><div class=\"sk-parallel\"><div class=\"sk-parallel-item\"><div class=\"sk-item\"><div class=\"sk-label-container\"><div class=\"sk-label sk-toggleable\"><input class=\"sk-toggleable__control sk-hidden--visually\" id=\"sk-estimator-id-5\" type=\"checkbox\" ><label for=\"sk-estimator-id-5\" class=\"sk-toggleable__label sk-toggleable__label-arrow\">estimator: MLPClassifier</label><div class=\"sk-toggleable__content\"><pre>MLPClassifier()</pre></div></div></div><div class=\"sk-serial\"><div class=\"sk-item\"><div class=\"sk-estimator sk-toggleable\"><input class=\"sk-toggleable__control sk-hidden--visually\" id=\"sk-estimator-id-6\" type=\"checkbox\" ><label for=\"sk-estimator-id-6\" class=\"sk-toggleable__label sk-toggleable__label-arrow\">MLPClassifier</label><div class=\"sk-toggleable__content\"><pre>MLPClassifier()</pre></div></div></div></div></div></div></div></div></div></div>"
      ],
      "text/plain": [
       "GridSearchCV(cv=3, estimator=MLPClassifier(), n_jobs=-1,\n",
       "             param_grid={'activation': ['tanh', 'relu'],\n",
       "                         'alpha': [0.0001, 0.05],\n",
       "                         'learning_rate': ['constant', 'adaptive']},\n",
       "             verbose=2)"
      ]
     },
     "execution_count": 8,
     "metadata": {},
     "output_type": "execute_result"
    }
   ],
   "source": [
    "##GridsearchCV of MLPC Model####\n",
    "\n",
    "param_grid = {\n",
    "    'activation': ['tanh', 'relu'],\n",
    "    'alpha': [0.0001, 0.05],\n",
    "    'learning_rate': ['constant','adaptive'],\n",
    "}\n",
    "# Create a based model\n",
    "mlpc = MLPClassifier()\n",
    "# Instantiate the grid search model\n",
    "mlpc_grid_search = GridSearchCV(estimator = mlpc, param_grid = param_grid, \n",
    "                          refit = True, cv = 3, n_jobs = -1, verbose = 2)\n",
    "mlpc_grid_search.fit(X_train, y_train)\n"
   ]
  },
  {
   "cell_type": "code",
   "execution_count": 13,
   "metadata": {},
   "outputs": [
    {
     "name": "stdout",
     "output_type": "stream",
     "text": [
      "Fitting 3 folds for each of 5 candidates, totalling 15 fits\n"
     ]
    },
    {
     "name": "stderr",
     "output_type": "stream",
     "text": [
      "/Users/james/anaconda3/lib/python3.10/site-packages/joblib/externals/loky/process_executor.py:700: UserWarning: A worker stopped while some jobs were given to the executor. This can be caused by a too short worker timeout or by a memory leak.\n",
      "  warnings.warn(\n"
     ]
    }
   ],
   "source": [
    "##GridsearchCV of QDA Model####\n",
    "\n",
    "param_grid = {'reg_param': [0.1, 0.2, 0.3, 0.4, 0.5]}\n",
    "# Create a based model\n",
    "qda = QuadraticDiscriminantAnalysis()\n",
    "# Instantiate the grid search model\n",
    "qda_grid_search = GridSearchCV(estimator = qda, param_grid = param_grid, \n",
    "                          refit = True, cv = 3, n_jobs = -1, verbose = 2)\n",
    "qda_grid_search.fit(X_train, y_train)\n"
   ]
  },
  {
   "cell_type": "markdown",
   "metadata": {},
   "source": [
    "Let's plot some additional confusion matrices to check if these classifiers are working better after GridsearchCV"
   ]
  },
  {
   "cell_type": "code",
   "execution_count": 9,
   "metadata": {},
   "outputs": [
    {
     "name": "stdout",
     "output_type": "stream",
     "text": [
      "{'C': 1, 'gamma': 0.001}\n"
     ]
    },
    {
     "data": {
      "image/png": "[encoded data removed]",
      "text/plain": [
       "<Figure size 640x480 with 2 Axes>"
      ]
     },
     "metadata": {},
     "output_type": "display_data"
    }
   ],
   "source": [
    "##Plot SVC GRID SEARCH CONFUSION MATRIX###\n",
    "print(svc_grid_search.best_params_) ##Print the parameters which achieved the best score\n",
    "y_predict1 = svc_grid_search.predict(X_test)\n",
    "svc_grid_search_scoring = matthews_corrcoef(y_test, y_predict1)\n",
    "cf_matrix1 = metrics.confusion_matrix(y_test, y_predict1)\n",
    "ax1 = sns.heatmap(cf_matrix1, annot=True, cmap='summer')\n",
    "title = str(\"GridSearch_SVC2_MCC_\"+str(svc_grid_search_scoring))\n",
    "ax1.set_title(title);\n",
    "ax1.set_xlabel('\\nPredicted Values')\n",
    "ax1.set_ylabel('Actual Values ');\n",
    "plt.show()"
   ]
  },
  {
   "cell_type": "code",
   "execution_count": 10,
   "metadata": {},
   "outputs": [
    {
     "name": "stdout",
     "output_type": "stream",
     "text": [
      "{'activation': 'relu', 'alpha': 0.0001, 'learning_rate': 'adaptive'}\n"
     ]
    },
    {
     "data": {
      "image/png": "[encoded data removed]",
      "text/plain": [
       "<Figure size 640x480 with 2 Axes>"
      ]
     },
     "metadata": {},
     "output_type": "display_data"
    }
   ],
   "source": [
    "##Plot MLPC GRID SEARCH CONFUSION MATRIX###\n",
    "\n",
    "print(mlpc_grid_search.best_params_) ##Print the parameters which achieved the best score\n",
    "y_predict1 = mlpc_grid_search.predict(X_test)\n",
    "mlpc_grid_search_scoring = matthews_corrcoef(y_test, y_predict1)\n",
    "cf_matrix1 = metrics.confusion_matrix(y_test, y_predict1)\n",
    "ax1 = sns.heatmap(cf_matrix1, annot=True, cmap='summer')\n",
    "title = str(\"GridSearch_MLPC_Classifier_MCC_\"+str(mlpc_grid_search_scoring))\n",
    "ax1.set_title(title);\n",
    "ax1.set_xlabel('\\nPredicted Values')\n",
    "ax1.set_ylabel('Actual Values ');\n",
    "plt.show()"
   ]
  },
  {
   "cell_type": "markdown",
   "metadata": {},
   "source": [
    "We can also compare the old MCC score to the new one and see how they have improved for ourselves."
   ]
  },
  {
   "cell_type": "code",
   "execution_count": 12,
   "metadata": {},
   "outputs": [
    {
     "name": "stdout",
     "output_type": "stream",
     "text": [
      "[0.9637703094417783, 0.6510678818389511, 0.9536069558286299, 0.9037796016864871, 0.8999310663199045, 1.0, 0.9900398128315341, 0.6510678818389511]\n"
     ]
    },
    {
     "data": {
      "image/png": "[encoded data removed]",
      "text/plain": [
       "<Figure size 1000x800 with 1 Axes>"
      ]
     },
     "metadata": {},
     "output_type": "display_data"
    }
   ],
   "source": [
    "##Plot MCC values of SVC and RFC Models with and without GridsearchCV##\n",
    "import numpy as np \n",
    "import matplotlib.pyplot as plt\n",
    "print(scores)\n",
    "\n",
    "classifiers2 = [\"SVC2\",\"MLPC\"]\n",
    "no_grid_scores = [scores[1],scores[4]]\n",
    "grid_scores = [svc_grid_search_scoring, mlpc_grid_search_scoring] \n",
    "labels = classifiers2\n",
    "aranged = np.arange(len(classifiers2)) \n",
    "width = 1/3\n",
    "\n",
    "fig, ax = plt.subplots(figsize=(10,8))\n",
    "\n",
    "bar1 = plt.bar(aranged, no_grid_scores, width,label = 'No GridSearchCV')\n",
    "bar2 = plt.bar(aranged+width, grid_scores , width,label = 'GridSearchCV')\n",
    "plt.suptitle('Performance of Machine Learning Classifiers Against Mouse and Human Antibodies with and Without GridSearchCV', fontsize=20)\n",
    "ax.set_ylabel('MCC')\n",
    "ax.set_xticks(aranged, labels, rotation = 90)\n",
    "ax.legend()\n",
    "\n",
    "\n",
    "plt.legend()\n",
    "plt.show()"
   ]
  },
  {
   "cell_type": "markdown",
   "metadata": {},
   "source": [
    "We can see that both classifiers have an improved performance, however we have not seen substantial performance in the Support Vector Machine, so perhaps additional parameters need to be investigated."
   ]
  },
  {
   "cell_type": "markdown",
   "metadata": {},
   "source": [
    "## Do it yourself\n",
    "\n",
    "- GridSearchCV is not the only kind of hyperparameter optimisation technique. RandomizedSearchCV is similar to GridSearchCV but instead of iterating over every combination of specified parameter, it randomly samples intervals for for a given number of iterations and notes which settings score the best. Documentation can be found here: https://scikit-learn.org/stable/supervised_learning.html\n",
    "\n",
    "- Try optimising the Random Forest Classifier with RandomizedSearchCV instead and see how similar the best parameters are and how similar the MCC values are."
   ]
  },
  {
   "cell_type": "markdown",
   "metadata": {},
   "source": [
    "## Feature Importance\n",
    "\n",
    "A Random Forest Classifier has a feature importance instance, where the features that contribute most highly to the determination of the classifier may be examined and plotted as percentages of their contribution. Using the best hyperparameters found by the GridSearchCV alogrithm, we may declare a new Random Forest and investigate which features are the most significant.\n"
   ]
  },
  {
   "cell_type": "code",
   "execution_count": null,
   "metadata": {},
   "outputs": [],
   "source": [
    "##Get Feature Importance from RFC Model and Plot Top 50 Features###\n",
    "RF_Best_Params = RandomForestClassifier(bootstrap= True, max_depth=80, max_features=3, min_samples_leaf= 3, min_samples_split= 10, n_estimators= 100)\n",
    "RF_Best_Params.fit(X_train, y_train)\n",
    "importances  =  RF_Best_Params.feature_importances_\n",
    "sorted_importances = sorted(importances, reverse=True)\n",
    "feature_names = X_train.columns\n",
    "sorted_feature_names = [feature_names for _, feature_names in sorted(zip(importances, feature_names), reverse = True)]\n",
    "fig, ax = plt.subplots(figsize=(12,6))\n",
    "\n",
    "plt.suptitle('50 Highest Feature Importances in Ranfom Forest Machine Learning Classifier Between Mouse and Human Antibodies', fontsize=20)\n",
    "ax.bar(sorted_feature_names[:49], sorted_importances[:49])\n",
    "ax.set_ylabel('Feature Importance')\n",
    "ax.set_xlabel('Feature')\n",
    "ax.set_xticklabels(sorted_feature_names[:49], rotation=-90);\n",
    "plt.show()"
   ]
  },
  {
   "cell_type": "markdown",
   "metadata": {},
   "source": [
    "It seems most of the important features are related to amino acid composition, which is not surprising as this would be where the superficial diffierences in mouse and human sequences lay."
   ]
  },
  {
   "cell_type": "markdown",
   "metadata": {},
   "source": [
    "## Do it yourself\n",
    "We now have a list of all the feature names sorted by feature importance. By using the code below we can rework our dataframe to the 50 most important features:\n",
    "\n",
    "`X = X[sorted_feature_names][:49]`\n",
    "\n",
    "- Try running the classifiers again, but this time use the top 50 features only as your input data. See how that improves each classifier. Are all of them improved?"
   ]
  },
  {
   "cell_type": "markdown",
   "metadata": {},
   "source": [
    "## Dimensionality Reduction\n",
    "\n",
    "As an additional task, we can try dimensionality reduction in the event that it might improve the performance of poorer predictors. Principal Component Analysis (PCA) is commonly applied in machine learning as a pre-processing step when dealing with data that contains multiple data points per sample. This increases interpretability of our data, and also allows us to plot it, visually. In short, it works to identify data points that can be grouped together and represented in a vector (principal components) to explain the variability seen in the data. Usually, they are ordered in reverse of how much variability they can explain (e.g. PC1 would explain the most variability, PCn would explain the least). \n",
    "\n",
    "We can then apply PCA to our dataset, and see if this changes the performance of our predictors."
   ]
  },
  {
   "cell_type": "code",
   "execution_count": null,
   "metadata": {},
   "outputs": [],
   "source": [
    "##Perform PCA \n",
    "nComp = 50 # Number of PCs to be returned\n",
    "\n",
    "threshold = 0.999999\n",
    "\n",
    "\n",
    "EncodingPCA = PCA(n_components=nComp, whiten=True)\n",
    "EncodingPCA = EncodingPCA.fit(dataset)\n",
    "\n",
    "cumExpVar = np.cumsum(EncodingPCA.explained_variance_ratio_)\n",
    "keepPC = [pc for pc in range(nComp) if cumExpVar[pc]>=threshold][0]\n",
    "\n",
    "NewEncodingPCA = EncodingPCA.transform(dataset)[:,range(keepPC)]\n",
    "print(NewEncodingPCA.shape)\n",
    "\n"
   ]
  },
  {
   "cell_type": "code",
   "execution_count": null,
   "metadata": {},
   "outputs": [],
   "source": [
    "##Train/Test Split##\n",
    "X_train_PCA, X_test_PCA, y_train_PCA, y_test_PCA = train_test_split(NewEncodingPCA, y, test_size=.3, random_state=RANDOM_SEED, shuffle=True)\n",
    "num_rows, num_cols = dataset.shape\n",
    "print(\"Training set size: \", X_train.shape, \"       Test set size: \", X_test.shape)\n"
   ]
  },
  {
   "cell_type": "code",
   "execution_count": null,
   "metadata": {},
   "outputs": [],
   "source": [
    "##Loop through classifiers and obtain MCC values of new datasets##\n",
    "scores_PCA = []\n",
    "for i in classifiers:\n",
    "    clf_1 = classifiers.get(i)\n",
    "    clf_1.fit(X_train_PCA,y_train_PCA)\n",
    "    y_predict1 = clf_1.predict(X_test_PCA)\n",
    "    scoring = matthews_corrcoef(y_test_PCA, y_predict1)\n",
    "    scores_PCA.append(scoring)\n"
   ]
  },
  {
   "cell_type": "code",
   "execution_count": null,
   "metadata": {},
   "outputs": [],
   "source": [
    "##Plot Score of Each Classifier Comparing Dataset with PCA and without PCA##\n",
    "import numpy as np \n",
    "import matplotlib.pyplot as plt \n",
    "labels = list(classifiers.keys())\n",
    "aranged = np.arange(len(classifiers)) \n",
    "width = 1/3\n",
    "fig, ax = plt.subplots(figsize=(15,8))\n",
    "\n",
    "bar1 = plt.bar(aranged, scores, width,label = 'No PCA')\n",
    "bar2 = plt.bar(aranged+width, scores_PCA , width,label = 'PCA')\n",
    "plt.suptitle('Performance of Machine Learning Classifiers Against Mouse and Human Antibodies with and Without PCA', fontsize=20)\n",
    "ax.set_ylabel('MCC')\n",
    "ax.set_xticks(aranged, labels, rotation = 90)\n",
    "ax.legend()\n",
    "\n",
    "\n",
    "plt.legend()\n",
    "plt.show()"
   ]
  },
  {
   "cell_type": "markdown",
   "metadata": {},
   "source": [
    "We see that some classifiers improve performance (SVC, MLPC,QDA) with the PCA but this is not always the case (Decision Tree, RFC, ADABoost). "
   ]
  },
  {
   "cell_type": "code",
   "execution_count": null,
   "metadata": {},
   "outputs": [],
   "source": [
    "##Visualising Data Plot##\n",
    "fig, ax = plt.subplots(ncols=3, nrows=2, figsize=(25, 15))\n",
    "plt.suptitle('PCA of Mouse Vs Human Encodings (Mouse = Purple, Human = Blue)', fontsize=20)\n",
    "\n",
    "ax[0, 0].scatter(NewEncodingPCA[:,0], NewEncodingPCA[:,1], c=y, cmap='cool');\n",
    "ax[0, 0].set_xlabel('PC1', fontsize=14); ax[0, 0].set_xlim([-2.5,2.5]);\n",
    "ax[0, 0].set_ylabel('PC2', fontsize=14); ax[0, 0].set_ylim([-2.5,2.5]);\n",
    "\n",
    "\n",
    "ax[0, 1].scatter(NewEncodingPCA[:,0], NewEncodingPCA[:,2], c=y, cmap='cool');\n",
    "ax[0, 1].set_xlabel('PC1', fontsize=14); ax[0, 1].set_xlim([-2.5,2.5]);\n",
    "ax[0, 1].set_ylabel('PC3', fontsize=14); ax[0, 1].set_ylim([-2.5,2.5]);\n",
    "\n",
    "\n",
    "ax[0, 2].scatter(NewEncodingPCA[:,0], NewEncodingPCA[:,3], c=y, cmap='cool');\n",
    "ax[0, 2].set_xlabel('PC1', fontsize=14); ax[0, 2].set_xlim([-2.5,2.5]);\n",
    "ax[0, 2].set_ylabel('PC4', fontsize=14); ax[0, 2].set_ylim([-2.5,2.5]);\n",
    "\n",
    "\n",
    "ax[1, 0].scatter(NewEncodingPCA[:,1], NewEncodingPCA[:,2], c=y, cmap='cool');\n",
    "ax[1, 0].set_xlabel('PC2', fontsize=14); ax[1, 0].set_xlim([-2.5,2.5]);\n",
    "ax[1, 0].set_ylabel('PC3', fontsize=14); ax[1, 0].set_ylim([-2.5,2.5]);\n",
    "\n",
    "\n",
    "ax[1, 1].scatter(NewEncodingPCA[:,1], NewEncodingPCA[:,3], c=y, cmap='cool');\n",
    "ax[1, 1].set_xlabel('PC2', fontsize=14); ax[1, 1].set_xlim([-2.5,2.5]);\n",
    "ax[1, 1].set_ylabel('PC4', fontsize=14); ax[1, 1].set_ylim([-2.5,2.5]);\n",
    "\n",
    "\n",
    "ax[1, 2].scatter(NewEncodingPCA[:,3], NewEncodingPCA[:,2], c=y, cmap='cool');\n",
    "ax[1, 2].set_xlabel('PC4', fontsize=14); ax[1, 2].set_xlim([-2.5,2.5]);\n",
    "ax[1, 2].set_ylabel('PC3', fontsize=14); ax[1, 2].set_ylim([-2.5,2.5]);\n",
    "\n",
    "\n"
   ]
  },
  {
   "cell_type": "markdown",
   "metadata": {},
   "source": [
    "We can see here that the graphs showing PC1 against PC3 and PC2 against PC3 show some the best separation between human and mouse antibodies. We can use this to support the trustworthiness of our dimensionality reduction technique."
   ]
  },
  {
   "cell_type": "markdown",
   "metadata": {},
   "source": [
    "## Do it yourself\n",
    "\n",
    "We can use other methods of reducing the dimensionality of the dataset. F-regression is a technique that selects the n most relevant features to the target variable. It can be performed on the dataset like so:\n",
    "\n",
    "~~~\n",
    "from sklearn.feature_selection import SelectKBest`\n",
    "from sklearn.feature_selection import f_regression\n",
    "n = 100\n",
    "X_NUMPY, Y_NUMPY = X.to_numpy(),y.to_numpy()\n",
    "fs = SelectKBest(score_func=f_regression, k=n)\n",
    "X_selected = fs.fit_transform(X_NUMPY, Y_NUMPY)\n",
    "~~~\n",
    "\n",
    "- Experiment with the n this method of dimensionality reduction on your data and see how the results compare to the Principle Component Analysis"
   ]
  },
  {
   "cell_type": "markdown",
   "metadata": {},
   "source": [
    "## Using Deep Learning to Classify Human and Mouse Antibodies\n",
    "\n",
    "Using deep learning to construct our own artificial neural network using Keras, we can implement a different tehcnique to the machine learning we have demonstrated, above. These networks are sophisticated algorithms built by the computer, and trained to best perform on the data in question. \n",
    "\n",
    "Outlined below, is a very simple model with three layers, compiled to act as a binary classifier for our dataset. We set this model to run over 20 epochs, which is a very short training run. By giving the model more epochs to train, it is possible to obrain better results; however there comes a point where the model will overfit to your data, and demonstrate poor prediction ability with any new data that is presented to it."
   ]
  },
  {
   "cell_type": "code",
   "execution_count": 1,
   "metadata": {},
   "outputs": [
    {
     "ename": "ModuleNotFoundError",
     "evalue": "No module named 'torch'",
     "output_type": "error",
     "traceback": [
      "\u001b[0;31m---------------------------------------------------------------------------\u001b[0m",
      "\u001b[0;31mModuleNotFoundError\u001b[0m                       Traceback (most recent call last)",
      "Cell \u001b[0;32mIn[1], line 1\u001b[0m\n\u001b[0;32m----> 1\u001b[0m \u001b[38;5;28;01mimport\u001b[39;00m \u001b[38;5;21;01mtorch\u001b[39;00m\n\u001b[1;32m      2\u001b[0m \u001b[38;5;28;01mimport\u001b[39;00m \u001b[38;5;21;01mtorch\u001b[39;00m\u001b[38;5;21;01m.\u001b[39;00m\u001b[38;5;21;01mnn\u001b[39;00m \u001b[38;5;28;01mas\u001b[39;00m \u001b[38;5;21;01mnn\u001b[39;00m\n\u001b[1;32m      3\u001b[0m \u001b[38;5;28;01mimport\u001b[39;00m \u001b[38;5;21;01mtorch\u001b[39;00m\u001b[38;5;21;01m.\u001b[39;00m\u001b[38;5;21;01moptim\u001b[39;00m \u001b[38;5;28;01mas\u001b[39;00m \u001b[38;5;21;01moptim\u001b[39;00m\n",
      "\u001b[0;31mModuleNotFoundError\u001b[0m: No module named 'torch'"
     ]
    }
   ],
   "source": [
    "##Import Deep Learning Modules##\n",
    "from keras.models import Sequential\n",
    "from keras.layers import LSTM, Dense, Dropout, Masking, Embedding\n",
    "import tensorflow as tf\n",
    "from keras.callbacks import EarlyStopping\n"
   ]
  },
  {
   "cell_type": "code",
   "execution_count": 5,
   "metadata": {},
   "outputs": [
    {
     "ename": "NameError",
     "evalue": "name 'X_train' is not defined",
     "output_type": "error",
     "traceback": [
      "\u001b[0;31m---------------------------------------------------------------------------\u001b[0m",
      "\u001b[0;31mNameError\u001b[0m                                 Traceback (most recent call last)",
      "Cell \u001b[0;32mIn[5], line 1\u001b[0m\n\u001b[0;32m----> 1\u001b[0m torch\u001b[38;5;241m.\u001b[39mtensor(\u001b[43mX_train\u001b[49m)\n",
      "\u001b[0;31mNameError\u001b[0m: name 'X_train' is not defined"
     ]
    }
   ],
   "source": [
    "#Initialising ANN##\n",
    "\n",
    "X_train_np = np.asarray(X_train)\n",
    "y_train_np = np.asarray(y_train)\n",
    "X_test_np =  np.asarray(X_test)\n",
    "y_test_np =  np.asarray(y_test)\n",
    "print(X_train.shape)\n",
    "\n",
    "ann = tf.keras.models.Sequential([tf.keras.layers.Dense(32, input_shape=(X_train.shape[1],)),\n",
    "                                (tf.keras.layers.Dense(20,activation=\"relu\")),\n",
    "                                (tf.keras.layers.Dense(1,activation=\"sigmoid\"))])\n",
    "\n",
    "ann.compile(optimizer=\"adam\",loss=\"binary_crossentropy\",metrics=[tf.keras.metrics.BinaryAccuracy()])\n",
    "#Fitting ANN\n",
    "es = EarlyStopping(monitor='val_loss', mode='min', patience=200)\n",
    "history = ann.fit(X_train_np,y_train_np,epochs = 2000, validation_data =(X_test_np,y_test_np), verbose = 0,callbacks=[es])\n",
    "performance = ann.evaluate(X_test_np, y_test_np)\n"
   ]
  },
  {
   "cell_type": "code",
   "execution_count": null,
   "metadata": {},
   "outputs": [],
   "source": [
    "##Get Final Score Prediction##\n",
    "predict = ann.predict(X_test_np)\n",
    "predict_binary = []\n",
    "for x in predict:\n",
    "    if x[0] > 0.5:\n",
    "        predict_binary.append(1)\n",
    "    elif x[0] < 0.5:\n",
    "        predict_binary.append(0)\n",
    "performance = ann.evaluate(X_test_np, y_test_np)\n",
    "#print(performance)\n",
    "MCC = matthews_corrcoef(y_test,predict_binary)\n",
    "print(MCC)"
   ]
  },
  {
   "cell_type": "code",
   "execution_count": null,
   "metadata": {},
   "outputs": [
    {
     "ename": "",
     "evalue": "",
     "output_type": "error",
     "traceback": [
      "\u001b[1;31mThe Kernel crashed while executing code in the the current cell or a previous cell. Please review the code in the cell(s) to identify a possible cause of the failure. Click <a href='https://aka.ms/vscodeJupyterKernelCrash'>here</a> for more info. View Jupyter <a href='command:jupyter.viewOutput'>log</a> for further details."
     ]
    }
   ],
   "source": [
    "##Plot Loss Function over Epochs##\n",
    "history_dict = history.history\n",
    "history_dict.keys()\n",
    "acc = history_dict['binary_accuracy']\n",
    "val_acc = history_dict['val_binary_accuracy']\n",
    "loss = history_dict['loss']\n",
    "val_loss = history_dict['val_loss']\n",
    "\n",
    "epochs = range(1, len(acc) + 1)\n",
    "\n",
    "plt.plot(epochs, loss, 'bo', label='Training loss')\n",
    "plt.plot(epochs, val_loss, 'b', label='Validation loss')\n",
    "plt.title('Training and validation loss')\n",
    "plt.xlabel('Epochs')\n",
    "plt.ylabel('Loss')\n",
    "plt.legend()\n",
    "\n",
    "plt.show()"
   ]
  },
  {
   "cell_type": "markdown",
   "metadata": {},
   "source": [
    "We plot the loss function of the deep learning algorithm over the epochs we set it to. This measures how well the algorithm learns our datasets, and the patterns behind it. It is expected that the loss would decrease over time for both the training and validation data. In some scenarios, however, the loss function may increase over time; but this is usually indicative of model overfitting."
   ]
  },
  {
   "cell_type": "markdown",
   "metadata": {},
   "source": [
    "## End of Chapter Exercise\n",
    "\n",
    "We have seen that it is possible to separate mouse and human antibody protein sequences through their numerical encodings. But what if we wanted to separate antibody sequences from more species? Included in this worksheet is a dataset of 1000 rat antibodies, as well as the previously used 1000-entry human and mouse datasets. On your own, try to generate additional classifieres to separate increasing combinations of species (*i.e.* human versus rat, and mouse versus rat). Use any of the hyperparameterisation techniques that we have learned, as you see fit. \n",
    "\n",
    "- Report which of these classifiers was the easiest to build.\n",
    "\n",
    "- Give reasons why some of these classifiers may be difficult to build."
   ]
  },
  {
   "cell_type": "markdown",
   "metadata": {},
   "source": [
    "## Keypoints\n",
    "\n",
    "- Protein sequences must be numerically encoded to be readable by machine learning algorithms.\n",
    "\n",
    "- It is sometimes necessary to experiment with different machine learning classifiers or hyperparameterisation techniques, to achieve the best prediction results.\n",
    "\n",
    "- Check the performance of your model with a \"held back\" dataset which was not included in the training set.\n",
    "\n",
    " "
   ]
  }
 ],
 "metadata": {
  "kernelspec": {
   "display_name": "py38-igfold",
   "language": "python",
   "name": "py38-igfold"
  },
  "language_info": {
   "codemirror_mode": {
    "name": "ipython",
    "version": 3
   },
   "file_extension": ".py",
   "mimetype": "text/x-python",
   "name": "python",
   "nbconvert_exporter": "python",
   "pygments_lexer": "ipython3",
   "version": "3.10.13"
  }
 },
 "nbformat": 4,
 "nbformat_minor": 2
}
