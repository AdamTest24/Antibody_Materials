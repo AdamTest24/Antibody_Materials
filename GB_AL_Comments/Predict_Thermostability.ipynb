{
 "cells": [
  {
   "cell_type": "markdown",
   "id": "9ad3fc3d-8706-461c-9f80-88df433e1552",
   "metadata": {},
   "source": [
    "# Using Deep Learning to Predict Numerical Values using Antibody Thermostability as an Example"
   ]
  },
  {
   "cell_type": "markdown",
   "id": "93a5fcea-f1df-43d3-ad83-56a0f9340c6e",
   "metadata": {},
   "source": [
    "\n",
    "### Objectives:\n",
    "    \n",
    "- Use encoded antibody protein sequences to train models to predict experimental properties of proteins.\n",
    "\n",
    "- Train a linear regression model to predict protein properties.\n",
    "\n",
    "- Train a deep learning model to predict protein properties.\n",
    "\n",
    "- Measuring success of regressive models and improving them."
   ]
  },
  {
   "cell_type": "markdown",
   "id": "1ba70760-4edb-4d9e-8832-3df1cba4a710",
   "metadata": {},
   "source": [
    "### Introduction \n",
    "\n",
    "This notebook will cover fitting a machine learning predictor to a set of experimental values for a given set of proteins. These models can be very useful in quickly predicting these experimental values from the given sequence. The example which will be covered here is predicting the $\\Delta$ G of Unfolding of antibodies from a given sequence. \n",
    "\n",
    "In order to train a model to predict the $\\Delta$ G of Unfolding of antibodies, but firstly, the antibody sequences requires encoding using methods covered previously in this series. This data will then be used to train a regressive model.\n",
    "\n",
    "Human antibody sequences taken from the Observed Antibody Space (n=8390; Olsen *et al.*, 2022) where each had thermostability calculated using the method developed by Oobatake (1993) to simulate an experimental dataset. This represents the antibody's thermostability as the $\\Delta$ G of Unfolding where positive values represent a higher thermostability, and negative values represent a low thermostability where the protein is more likely to unfold spontaneously. By using a subset of these values for training, predicted thermostabilities can be obtained as the output and a test dataset can be used as a means to evaluate the error in the predictive model.\n",
    "\n",
    "N.B. Antibodies and encoding methods were covered in previous notebooks in this series and so those should be covered to understand what is meant by antibody heavy and light chain pairing, as well as spacing antibody sequences according to numbering schemes.\n",
    "\n",
    "\n",
    "### References\n",
    "\n",
    "\n",
    "[Olsen, T. H., Boyles, F., & Deane, C. M. (2022). Observed Antibody Space: A diverse database of cleaned, annotated, and translated unpaired and paired antibody sequences. Protein Science, 31(1), 141–146.](https://doi.org/https://doi.org/10.1002/pro.4205)\n",
    "\n",
    "[Oobatake, M., & Ooi, T. (1993). Hydration and heat stability effects on protein unfolding. Progress in Biophysics and Molecular Biology, 59(3), 237–284.](https://doi.org/10.1016/0079-6107(93)90002-2)\n",
    "\n",
    "[Sequeira, A. M., Lousa, D., & Rocha, M. (2022). ProPythia: A Python package for protein classification based on machine and deep learning. Neurocomputing, 484, 172–182.](https://doi.org/https://doi.org/10.1016/j.neucom.2021.07.102)\n",
    "\n",
    "\n"
   ]
  },
  {
   "cell_type": "markdown",
   "id": "6eab3401-77a9-411f-a637-5c8777e5b552",
   "metadata": {},
   "source": [
    "## Imports and Requirements\n",
    "The antibody encoding method we will be using is the Propythia program. Before starting we recommend installing it by copying and pasting the following command in your terminal/command line:\n",
    "\n",
    "`pip install propythia`\n",
    "\n",
    "The machine learning models that we will use are imported from the Keras package. We also suggest installing this via the following command: \n",
    "\n",
    "`pip install keras`\n",
    "\n",
    "As this is a large package, rather than importing the whole package, it is better practise to just import the fuctions we require. As this usually leaves with a lot of import statements, we have broken them down what imports are required at what stage of the process."
   ]
  },
  {
   "cell_type": "code",
   "execution_count": 1,
   "id": "f0cc09bc-8543-49b2-85f9-6e3eac00875f",
   "metadata": {
    "tags": []
   },
   "outputs": [],
   "source": [
    "RANDOM_SEED = 42\n",
    "\n",
    "##Import Get Encodings##\n",
    "import numpy as np\n",
    "import re\n",
    "import warnings\n",
    "from Bio import SeqIO\n",
    "warnings.simplefilter(action='ignore', category=FutureWarning)\n",
    "import pandas as pd\n",
    "import sys\n",
    "from pandas import read_csv\n",
    "sys.path.append('../src/')\n",
    "sys.path.append('')\n",
    "\n",
    "from numpy import mgrid, linspace, c_, arange, mean, array\n",
    "from numpy.random import uniform, seed\n",
    "\n",
    "##Imports for data preprocessing##\n",
    "from sklearn.model_selection import train_test_split\n",
    "import pandas as pd\n",
    "from sklearn.datasets import make_regression\n",
    "from sklearn.utils import shuffle\n",
    "from sklearn.linear_model import LinearRegression\n",
    "\n",
    "##Imports for deep learning models###\n",
    "##Import deep learning modules from Pytorch##\n",
    "import torch\n",
    "import torch.nn as nn\n",
    "import torch.optim as optim\n",
    "from sklearn.tree import ExtraTreeClassifier\n",
    "from sklearn.model_selection import KFold, StratifiedKFold\n",
    "from sklearn.model_selection import RepeatedKFold\n",
    "\n",
    "\n",
    "##Import modules for evaluating results and plotting##\n",
    "from sklearn import metrics\n",
    "from sklearn.metrics import make_scorer\n",
    "from pandas import read_csv\n",
    "from matplotlib.ticker import LinearLocator, FormatStrFormatter\n",
    "from mpl_toolkits import mplot3d\n",
    "from matplotlib.pyplot import subplots, axes, scatter, xticks\n",
    "import matplotlib.pyplot as plt\n",
    "import seaborn as sns\n",
    "from sklearn.metrics import confusion_matrix\n",
    "from sklearn.metrics.cluster import adjusted_rand_score\n",
    "from sklearn import metrics\n",
    "from sklearn.metrics import matthews_corrcoef\n",
    "from sklearn.feature_selection import f_regression\n",
    "from sklearn.metrics import mean_squared_error, r2_score\n",
    "\n",
    "\n",
    "##Import for saving and loading model##\n",
    "import pickle"
   ]
  },
  {
   "cell_type": "code",
   "execution_count": 2,
   "id": "894daaf7-6f3c-4fba-b676-b2cab89ab52a",
   "metadata": {
    "tags": []
   },
   "outputs": [],
   "source": [
    "def Get_Kidera_Encoded_Sequences(fasta):\n",
    "    ##Read all VH and VL sequences in the input FASTA file and encode them using Kidera Factors##\n",
    "    def repeat_sequence_to_length(lst, length):\n",
    "    ##Repeat list to a given length##\n",
    "        repeated_list = []\n",
    "        while len(repeated_list) < length:\n",
    "            repeated_list.extend(lst[:length - len(repeated_list)])\n",
    "        return repeated_list[:length]\n",
    "\n",
    "    #Read sequences from FASTA file and save them as lists of VH and VL sequences##\n",
    "    VH_sequences = []\n",
    "    VL_sequences = []\n",
    "    KideraFactors = {\"A\": [-1.56,-1.67,-0.97,-0.27,-0.93,-0.78,-0.20,-0.08,0.21,-0.48], \"R\": [0.22,1.27,1.37,1.87,-1.70,0.46,0.92,-0.39,0.23,0.93], \"N\": [1.14,-0.07,-0.12,0.81,0.18,0.37,-0.09,1.23,1.10,-1.73], \"D\": [0.58,-0.22,-1.58,0.81,-0.92,0.15,-1.52,0.47,0.76,0.70], \"C\": [0.12,-0.89,0.45,-1.05,-0.71,2.41,1.52,-0.69,1.13,1.10], \"Q\": [-0.47,0.24,0.07,1.10,1.10,0.59,0.84,-0.71,-0.03,-2.33], \"E\": [-1.45,0.19,-1.61,1.17,-1.31,0.40,0.04,0.38,-0.35,-0.12], \"G\": [1.46,-1.96,-0.23,-0.16,0.10,-0.11,1.32,2.36,-1.66,0.46], \"H\": [-0.41,0.52,-0.28,0.28,1.61,1.01,-1.85,0.47,1.13,1.63], \"I\": [-0.73,-0.16,1.79,-0.77,-0.54,0.03,-0.83,0.51,0.66,-1.78], \"L\": [-1.04,0.00,-0.24,-1.10,-0.55,-2.05,0.96,-0.76,0.45,0.93], \"K\": [-0.34,0.82,-0.23,1.70,1.54,-1.62,1.15,-0.08,-0.48,0.60], \"M\": [-1.40,0.18,-0.42,-0.73,2.00,1.52,0.26,0.11,-1.27,0.27], \"F\": [-0.21,0.98,-0.36,-1.43,0.22,-0.81,0.67,1.10,1.71,-0.44], \"P\": [2.06,-0.33,-1.15,-0.75,0.88,-0.45,0.30,-2.30,0.74,-0.28], \"S\": [0.81,-1.08,0.16,0.42,-0.21,-0.43,-1.89,-1.15,-0.97,-0.23], \"T\": [0.26,-0.70,1.21,0.63,-0.10,0.21,0.24,-1.15,-0.56,0.19], \"W\": [0.30,2.10,-0.72,-1.57,-1.16,0.57,-0.48,-0.40,-2.30,-0.60], \"Y\": [1.38,1.48,0.80,-0.56,-0.00,-0.68,-0.31,1.03,-0.05,0.53], \"V\": [-0.74,-0.71,2.04,-0.40,0.50,-0.81,-1.07,0.06,-0.46,0.65], \"X\": [0,0,0,0,0,0,0,0,0,0]}\n",
    "\n",
    "    data = SeqIO.parse(fasta, \"fasta\")\n",
    "    for i in data:\n",
    "        if re.search(\"_VH\",str(i.id)):\n",
    "            VH_sequences.append(i.seq)\n",
    "        elif re.search(\"_VL\",str(i.id)):\n",
    "            VL_sequences.append(i.seq)\n",
    "            \n",
    "   #Encode sequences using One Hot Encoding##\n",
    "    if len(VH_sequences) == len(VL_sequences):\n",
    "        VH_encodings = []\n",
    "        VL_encodings = []\n",
    "        for i in range(len(VH_sequences)):\n",
    "            VH_Kid = []\n",
    "            for res in VH_sequences[i]:\n",
    "                VH_Kid = VH_Kid + KideraFactors[res]\n",
    "            VH_encodings.append(VH_Kid)\n",
    "        for i in range(len(VL_sequences)):\n",
    "            VL_Kid = []\n",
    "            for res in VL_sequences[i]:\n",
    "                VL_Kid = VL_Kid + KideraFactors[res]\n",
    "            VL_encodings.append(VL_Kid)\n",
    "    \n",
    "    #Pad sequences to the length of the longest sequence##\n",
    "    VH_dataframe = pd.DataFrame(VH_encodings)\n",
    "    VL_dataframe = pd.DataFrame(VL_encodings)\n",
    "    VH_labels = []\n",
    "    VH_labels_list = repeat_sequence_to_length(list(KideraFactors.keys()),VH_dataframe.shape[1])\n",
    "    for i in range(len(VH_labels_list)):\n",
    "        position = round((i+1)/10)\n",
    "        VH_labels.append(\"VH_position_\"+str(position)+\"_residue_\"+str(VH_labels_list[i]))\n",
    "    VL_labels = []\n",
    "    VL_labels_list = repeat_sequence_to_length(list(KideraFactors.keys()),VL_dataframe.shape[1])\n",
    "    for i in range(len(VL_labels_list)):\n",
    "        position = round((i+1)/10)\n",
    "        VL_labels.append(\"VL_position_\"+str(position)+\"_residue_\"+str(VL_labels_list[i]))\n",
    "   \n",
    "            \n",
    "    #Join VH and VL dataframes together so that each sample now has information about its VH and VL sequence#\n",
    "    VH_dataframe.columns = VH_labels\n",
    "    VL_dataframe.columns = VL_labels\n",
    "    joined_dataframe_VH_VL =  VH_dataframe.join(VL_dataframe)\n",
    "    joined_dataframe_VH_VL_cleaned = joined_dataframe_VH_VL.dropna(axis=1)\n",
    "    joined_dataframe_VH_VL_cleaned.to_csv('DeltaG_VH_VL_Kidera.csv')\n",
    "    return(joined_dataframe_VH_VL_cleaned)\n"
   ]
  },
  {
   "cell_type": "markdown",
   "id": "3797ebdc-28d8-4bd5-8a27-3305480cf2bb",
   "metadata": {},
   "source": [
    "## Generating the Encoded Dataset\n",
    "Here we input our fasta file and split the entries into VH and VL sequences. We put each set of sequecnes through the Propythia encoder a dataframe of numerical information for both VH and VL sequences. \n"
   ]
  },
  {
   "cell_type": "code",
   "execution_count": 3,
   "id": "15d10132-b869-44ab-a9d5-c79068fecc84",
   "metadata": {
    "tags": []
   },
   "outputs": [],
   "source": [
    "### Input Fasta and Run Dataset###\n",
    "input_fasta = './Delta_G_Fasta_Sequences.faa'\n",
    "encodings = Get_Kidera_Encoded_Sequences(input_fasta)\n",
    "Delta_G_Values = read_csv('./Delta_G_Values.csv', header = 0)\n"
   ]
  },
  {
   "cell_type": "markdown",
   "id": "e162e291-eda4-4b23-a98b-ec6a00ef6671",
   "metadata": {},
   "source": [
    "## Preparing the Data\n",
    "\n",
    "When we have our encoded data, it is important to have  a train and test portion to monitor the performance of our model. Additionaly, shuffling the data is a method of eliminating any biases in the data which may be due to ordering in our dataset. We have incorporated shuffling into the train_test_split function."
   ]
  },
  {
   "cell_type": "code",
   "execution_count": 4,
   "id": "ddaba1c6-40d8-4ad0-9664-af59c5c6d4df",
   "metadata": {
    "tags": []
   },
   "outputs": [
    {
     "name": "stdout",
     "output_type": "stream",
     "text": [
      "(8394, 2090) (8394, 1)\n",
      "(5875, 2090) (2519, 2090) (5875, 1) (2519, 1)\n"
     ]
    }
   ],
   "source": [
    "##Split the data into training and testing sets##\n",
    "dataset = encodings\n",
    "dataset=dataset.loc[:, dataset.columns != 'Unnamed: 0']\n",
    " #Remove any indexes that could bias our data\n",
    "y = Delta_G_Values\n",
    "print(dataset.shape, y.shape)\n",
    "\n",
    "#Get Train/Test Split#\n",
    "X_train, X_test, y_train, y_test = train_test_split(dataset, y, test_size=.3, random_state=0, shuffle=True)\n",
    "print(X_train.shape, X_test.shape, y_train.shape, y_test.shape)"
   ]
  },
  {
   "cell_type": "markdown",
   "id": "e0fec0e7-7a01-4791-9ee5-42a38bc78a66",
   "metadata": {},
   "source": [
    "## Build Linear Model\n",
    "\n",
    "To test this hypothesis, we can quickly train a linear model to evaluate if this model can be trained before going through a lengthy deep learning model training."
   ]
  },
  {
   "cell_type": "code",
   "execution_count": 5,
   "id": "a6bda696-0496-4903-b3e9-20769fbb39a5",
   "metadata": {
    "tags": []
   },
   "outputs": [
    {
     "name": "stdout",
     "output_type": "stream",
     "text": [
      "Correlation coefficient: -3.484137153670964e+20\n"
     ]
    },
    {
     "data": {
      "text/plain": [
       "Text(0, 0.5, 'Observed delta G of Unfolding')"
      ]
     },
     "execution_count": 5,
     "metadata": {},
     "output_type": "execute_result"
    },
    {
     "data": {
      "image/png": "[encoded data removed]",
      "text/plain": [
       "<Figure size 800x600 with 1 Axes>"
      ]
     },
     "metadata": {},
     "output_type": "display_data"
    }
   ],
   "source": [
    "##Initialise linear model##\n",
    "model = LinearRegression()\n",
    "##Fit the model to the training data##\n",
    "model.fit(X_train, y_train)\n",
    "##Predict the delta G values of the test data##\n",
    "y_pred = model.predict(X_test)\n",
    "\n",
    "##Plot results of predicted values Vs observed values##\n",
    "fig, ax = plt.subplots(figsize=(8,6))\n",
    "plt.scatter(y_pred, y_test)\n",
    "r2 = r2_score(y_test, np.array(y_pred))\n",
    "print(\"Correlation coefficient:\", r2)\n",
    "ax.set_xlabel('Predicted delta G of Unfolding')\n",
    "ax.set_ylabel('Observed delta G of Unfolding')\n",
    "\n"
   ]
  },
  {
   "cell_type": "markdown",
   "id": "d024091a",
   "metadata": {},
   "source": [
    "It looks from this initial test that the model is working very well, even when it's just a simple linear model. What would be interesting to test is if this is the result of the large sample size fed to the model, or whether there are key features encoded in the data that are being found by the model. This can be measured by the correlation coefficient of the predicted values and the observed experimental values. This should be as close to 1 as possible, as well as the mean squared error which should be as close to 0 as possible"
   ]
  },
  {
   "cell_type": "code",
   "execution_count": 6,
   "id": "a21196ec",
   "metadata": {
    "tags": []
   },
   "outputs": [
    {
     "name": "stdout",
     "output_type": "stream",
     "text": [
      "(419, 2090) (7975, 2090) (419, 1) (7975, 1)\n",
      "Correlation coefficient: 0.07812473842544854\n",
      "Mean Squared Error: 16115647.067667944\n"
     ]
    },
    {
     "data": {
      "text/plain": [
       "Text(0, 0.5, 'Observed delta G of Unfolding')"
      ]
     },
     "execution_count": 6,
     "metadata": {},
     "output_type": "execute_result"
    },
    {
     "data": {
      "image/png": "[encoded data removed]",
      "text/plain": [
       "<Figure size 800x600 with 1 Axes>"
      ]
     },
     "metadata": {},
     "output_type": "display_data"
    }
   ],
   "source": [
    "#Train and test split, using a train size of 1% to test the model##\n",
    "X_train, X_test, y_train, y_test = train_test_split(dataset, y, test_size=.95, random_state=0, shuffle=True)\n",
    "print(X_train.shape, X_test.shape, y_train.shape, y_test.shape)\n",
    "model = LinearRegression()\n",
    "model.fit(X_train, y_train)\n",
    "y_pred = model.predict(X_test)\n",
    "\n",
    "#Plot results of predicted values Vs observed values##\n",
    "fig, ax = plt.subplots(figsize=(8,6))\n",
    "plt.scatter(y_pred, y_test)\n",
    "r2 = r2_score(y_test, np.array(y_pred))\n",
    "print(\"Correlation coefficient:\", r2)\n",
    "mse = mean_squared_error(y_test, np.array(y_pred))\n",
    "print(\"Mean Squared Error:\", mse)\n",
    "ax.set_xlabel('Predicted delta G of Unfolding')\n",
    "ax.set_ylabel('Observed delta G of Unfolding')\n",
    "\n"
   ]
  },
  {
   "cell_type": "markdown",
   "id": "97001466",
   "metadata": {},
   "source": [
    "From this test where there was a significantly reduced training dataset, it seems that there is still a high correlation between predicted values and observed values, albeit less than the original. This suggests that there are highly correlated features in the encodings which the model is learning from."
   ]
  },
  {
   "cell_type": "code",
   "execution_count": 7,
   "id": "21b144c1",
   "metadata": {
    "tags": []
   },
   "outputs": [
    {
     "name": "stdout",
     "output_type": "stream",
     "text": [
      "                        Feature  Importance  Absolute Importance\n",
      "1013  VH_position_101_residue_Q -675.078075           675.078075\n",
      "1053  VH_position_105_residue_D -624.078702           624.078702\n",
      "1017  VH_position_102_residue_I  610.111076           610.111076\n",
      "1098  VH_position_110_residue_E  595.157486           595.157486\n",
      "2063   VL_position_95_residue_H -546.806414           546.806414\n",
      "1044  VH_position_104_residue_S  542.370065           542.370065\n",
      "1023  VH_position_102_residue_S -531.440103           531.440103\n",
      "1018  VH_position_102_residue_L  504.610013           504.610013\n",
      "1093  VH_position_109_residue_R -483.404661           483.404661\n",
      "1074  VH_position_108_residue_D -475.005910           475.005910\n"
     ]
    }
   ],
   "source": [
    "# Get the model coefficients\n",
    "coefficients = model.coef_\n",
    "\n",
    "# Create a DataFrame to hold the feature importances\n",
    "feature_importances = pd.DataFrame({'Feature': list(X_train.columns), 'Importance': list(coefficients[0])})\n",
    "\n",
    "# Calculate the absolute importance\n",
    "feature_importances['Absolute Importance'] = feature_importances['Importance'].abs()\n",
    "\n",
    "# Sort features by absolute importance\n",
    "feature_importances = feature_importances.sort_values(by='Absolute Importance', ascending=False)\n",
    "\n",
    "# Display the feature importances\n",
    "print(feature_importances.head(10))"
   ]
  },
  {
   "cell_type": "markdown",
   "id": "2a7c6543",
   "metadata": {},
   "source": [
    "So it seems that there are highly correlated encodings, whether positively or negatively correlated, which can be informative to the model in its predictions. This might be the case for the amino acid encodings, however, would this work for the One Hot Encoding method? \n",
    "\n",
    "## Do it yourself\n",
    "\n",
    "- Train a linear model using the same sequences, however, encode them using the One Hot Encoding method. Would you expect the same results? \n",
    "- Would the model require more data for such good performance? What does this performance tell you about how the model is learning and what data is best and what kind of encoding should be used for this task?\n"
   ]
  },
  {
   "cell_type": "markdown",
   "id": "5cfda59e-d11e-4ec1-94cb-546ef5822ceb",
   "metadata": {},
   "source": [
    "## Build Deep Learning Model\n",
    "Another method, for more complex tasks, is to build a deep learning model. This will be similar to the model used in the previous notebook, but rather than binary classification, this model will be used for prediction of a continuous result, and so there will be some changes applied to reflect that. For instance, there is no sigmoid function at the last node and the loss function used here is the mean squared error loss function, which is more appropriate for regression tasks.\n",
    "\n",
    " "
   ]
  },
  {
   "cell_type": "code",
   "execution_count": 8,
   "id": "a16eea09-3e9e-470f-b5c5-63bc22b3a991",
   "metadata": {
    "tags": []
   },
   "outputs": [],
   "source": [
    "##Build models##\n",
    "\n",
    "class Deep_Learning_Model(nn.Module):\n",
    "    def __init__(self, input_size):\n",
    "        super(Deep_Learning_Model, self).__init__()\n",
    "        self.layer1 = nn.Linear(input_size, 512)\n",
    "        self.layer2 = nn.Linear(512, 256)\n",
    "        self.layer3 = nn.Linear(256, 128)\n",
    "        self.layer4 = nn.Linear(128, 64)\n",
    "        self.layer5 = nn.Linear(64, 1)  # Output layer with a single neuron for regression\n",
    "\n",
    "    def forward(self, x):\n",
    "        x = torch.relu(self.layer1(x))\n",
    "        x = torch.relu(self.layer2(x))\n",
    "        x = torch.relu(self.layer3(x))\n",
    "        x = torch.relu(self.layer4(x))\n",
    "        x = self.layer5(x)  # No activation function for the output layer\n",
    "        return x\n",
    "    \n",
    "\n"
   ]
  },
  {
   "cell_type": "code",
   "execution_count": 9,
   "id": "9116f91a",
   "metadata": {
    "tags": []
   },
   "outputs": [
    {
     "ename": "",
     "evalue": "",
     "output_type": "error",
     "traceback": [
      "\u001b[1;31mThe Kernel crashed while executing code in the current cell or a previous cell. \n",
      "\u001b[1;31mPlease review the code in the cell(s) to identify a possible cause of the failure. \n",
      "\u001b[1;31mClick <a href='https://aka.ms/vscodeJupyterKernelCrash'>here</a> for more info. \n",
      "\u001b[1;31mView Jupyter <a href='command:jupyter.viewOutput'>log</a> for further details."
     ]
    }
   ],
   "source": [
    "#Load Data and split into training and testing sets#\n",
    "#joined_dataframe_VH_VL = read_csv('./DeltaG_VH_VL_Kidera.csv', header = 0)\n",
    "#dataset = joined_dataframe_VH_VL\n",
    "#dataset=dataset.loc[:, dataset.columns != 'Unnamed: 0']\n",
    "#y = Delta_G_Values\n",
    "\n",
    "\n",
    "#Get Train/Test Split#\n",
    "X_train, X_test, y_train, y_test = train_test_split(dataset, y, test_size=.3, random_state=RANDOM_SEED, shuffle=True)\n",
    "num_rows, num_cols = dataset.shape\n",
    "print(\"Training set size: \", X_train.shape, \"       Test set size: \", X_test.shape)\n",
    "\n",
    "#Convert data to Pytorch tensors#\n",
    "X_train_pt = torch.tensor(X_train.values, dtype=torch.float32)\n",
    "X_test_pt = torch.tensor(X_test.values, dtype=torch.float32)\n",
    "y_train_pt = torch.tensor(y_train ,dtype=torch.float32).view(-1, 1)\n",
    "y_test_pt = torch.tensor(y_test, dtype=torch.float32)"
   ]
  },
  {
   "cell_type": "code",
   "execution_count": null,
   "id": "3c3aa3fd-c1e1-442d-a5ca-836227489160",
   "metadata": {},
   "outputs": [],
   "source": [
    "#Initialise model, criterion and optimizer#\n",
    "learning_rate = 0.001\n",
    "model = Deep_Learning_Model(X_train.shape[1])\n",
    "loss_function = nn.MSELoss()\n",
    "optimizer = optim.Adam(model.parameters(), lr=learning_rate)\n"
   ]
  },
  {
   "cell_type": "code",
   "execution_count": null,
   "id": "9e4b68e6-c3b7-4126-a428-6cfc5dd50b7d",
   "metadata": {
    "tags": []
   },
   "outputs": [],
   "source": [
    "#Train deep learning model over a set number of epochs#\n",
    "epochs = 5000\n",
    "loss_values = []\n",
    "\n",
    "for epoch in range(epochs):\n",
    "    model.train()\n",
    "    \n",
    "    #Calculate loss function#\n",
    "    outputs = model(X_train_pt)\n",
    "    loss = loss_function(outputs, y_train_pt)\n",
    "    loss_values.append(loss.item())\n",
    "\n",
    "    #Update weights#\n",
    "    optimizer.zero_grad()\n",
    "    loss.backward()\n",
    "    optimizer.step()\n",
    "\n",
    "    #Print the loss every 10 epochs#\n",
    "    if (epoch + 1) % 10 == 0:\n",
    "        print(f'Epoch [{epoch + 1}/{epochs}], Loss: {loss.item():.4f}')\n",
    "\n",
    "#Save final state model#\n",
    "torch.save(model.state_dict(), 'Thermostability_model.pkl')\n",
    "\n",
    "#Plot Loss Function Over Epochs#\n",
    "plt.plot(range(1, epochs+1), loss_values, marker='o')\n",
    "plt.xlabel('Epoch')\n",
    "plt.ylabel('Loss')\n",
    "plt.title('Training Loss Over Epochs')\n",
    "plt.grid(True)\n",
    "plt.show()\n"
   ]
  },
  {
   "cell_type": "markdown",
   "id": "4819facd-b916-4b43-bed0-e40be90a01ed",
   "metadata": {},
   "source": [
    "With our model trained and tested. Now we can use it to predcit the $\\Delta$ G values of the testing portion of our dataset. These results can then be stored in an array and plotted against their actual values as a measure of the success of our predictor. Upon plotting the results, we would expect to see a linear relationship between the observed and expected results with a high correlation coefficient."
   ]
  },
  {
   "cell_type": "code",
   "execution_count": null,
   "id": "bb73cba2-5732-4dd6-ad66-af8abfc16b8b",
   "metadata": {},
   "outputs": [],
   "source": [
    "#Use model to predict test data values#\n",
    "model.eval()\n",
    "with torch.no_grad():\n",
    "    predictions = model(X_test_pt)\n",
    "    predictions = predictions.numpy()\n",
    "    \n",
    "#Get Correlation coefficient of predicted values Vs observed values##\n",
    "correlation_coefficient = np.corrcoef(list(predictions.flatten()),list(y_test['Delta G of Unfolding'].values) )\n",
    "print(\"Correlation coefficient:\", correlation_coefficient[0][1])\n",
    "mse = mean_squared_error(list(predictions.flatten()),list(y_test['Delta G of Unfolding'].values))\n",
    "print(\"Mean Squared Error:\", mse)\n",
    "#Plot results of predicted values Vs observed values##\n",
    "fig, ax = plt.subplots(figsize=(8,6))\n",
    "plt.scatter(predictions, y_test)\n",
    "ax.set_xlabel('Predicted delta G of Unfolding')\n",
    "ax.set_ylabel('Observed delta G of Unfolding')"
   ]
  },
  {
   "cell_type": "markdown",
   "id": "1e67e9e7",
   "metadata": {},
   "source": [
    "Do it yourself\n",
    "\n",
    "- The default settings used in the previous exercise seem to not perform well for this kind of data. Perhaps then some additional changes need to be made. Try out some changes to the parameter to try and improve performance\n",
    "\n",
    "- If it continues not to work, maybe ask if the data used is suitable for this task, or if the model is not learning from these features?\n",
    "\n",
    "- Try some methods of feature selection (covered in workbook 2) to improve performance\n"
   ]
  },
  {
   "cell_type": "markdown",
   "id": "aece055f-4da8-4917-8050-1fd0439b442a",
   "metadata": {},
   "source": [
    "## Testing on a Naive Dataset\n",
    "Now we can try out our model on a totally naive dataset by encoding our data in the same way as our input dataset. This will be a good measure of model performance and poor performance of the model here could be a sign overfitting to the training data."
   ]
  },
  {
   "cell_type": "code",
   "execution_count": null,
   "id": "4bbbb45e-c91b-458e-9111-01687a764d71",
   "metadata": {},
   "outputs": [],
   "source": [
    "### Input Fasta and Run Dataset###\n",
    "Naive_fasta = './all_test.faa.txt'\n",
    "naive_encodings = Get_dataset(Naive_fasta)\n",
    "\n",
    "naive_observed_results = \"all_test.faa.txt_Delta_G.txt\""
   ]
  },
  {
   "cell_type": "code",
   "execution_count": null,
   "id": "b791578c-69bf-4b5e-8141-a0198fed94da",
   "metadata": {},
   "outputs": [],
   "source": [
    "###Load saved model###\n",
    "\n",
    "loaded_model = model\n",
    "###Predict thermostability with loaded model###\n",
    "with torch.no_grad():\n",
    "    predictions = model(X_test_pt)\n",
    "    predictions = predictions.numpy()\n",
    "    naive_prediction = loaded_model.predict(naive_encodings)\n",
    "    Naive_observed_results = read_csv(naive_observed_results,header=0).to_numpy()\n",
    "\n",
    "\n",
    "#Plot results of predicted values Vs observed values##\n",
    "fig, ax = plt.subplots(figsize=(8,6))\n",
    "plt.scatter(naive_prediction, Naive_observed_results)\n",
    "correlation_coefficient = np.corrcoef(predictions,y_test['Delta G of Unfolding'].values)\n",
    "print(\"Correlation coefficient:\", correlation_coefficient[0][1])\n",
    "ax.set_xlabel('Predicted delta G of Unfolding')\n",
    "ax.set_ylabel('Observed delta G of Unfolding')"
   ]
  },
  {
   "cell_type": "markdown",
   "id": "b7f1f107-0315-4354-b424-3c5c4f8c45e5",
   "metadata": {},
   "source": [
    "## End of Chapter Exercises\n",
    "\n",
    "\n",
    "There are many more properties of antibodies, or any protein that we could train an ANN to predict. For instance, we can use isoelectrisity as another example. Isoelectrisity (pI) is the pH which a protein requires to have a net charge of zero. Usually this is around 6-7, but more charged proteins may have either higher or lower values of pI. In the material for this worksheet, another file containing the pI values for all of the antibodies used in this workbook. Generate a new ANN predictor to demonstrate that this property may be calculated from our encoded antibodies too. This activity should recap all of the principles covered in this workbook.\n",
    "\n",
    "- Train a linear model to predict experimental results predicted and observed results."
   ]
  },
  {
   "cell_type": "markdown",
   "id": "39e75c0b",
   "metadata": {},
   "source": [
    "## Summary\n",
    "\n",
    "This workbook should have demonstrated the ability of machine learning models to be trained on to predict experimental values from an encoded amino acid. This can be done using linear and deep learning models, however, it has been shown that using appropriate method of encodings is key to the success of these models.\n",
    "\n",
    "## Key points\n",
    "\n",
    "From the exercise above you should have learned\n",
    "- How to predict a numerical result using linear regression and a regressive deep learning model\n",
    "- How to evaluate the performance of a regressive model\n",
    "- How regressive models can be trained to calculate the features of proteins using experimental data and protein encodings\n",
    "- Deep learning models are not always the most suitable models if a linear model already has a good predictive ability"
   ]
  }
 ],
 "metadata": {
  "kernelspec": {
   "display_name": "py38-igfold",
   "language": "python",
   "name": "py38-igfold"
  },
  "language_info": {
   "codemirror_mode": {
    "name": "ipython",
    "version": 3
   },
   "file_extension": ".py",
   "mimetype": "text/x-python",
   "name": "python",
   "nbconvert_exporter": "python",
   "pygments_lexer": "ipython3",
   "version": "3.1.-1"
  }
 },
 "nbformat": 4,
 "nbformat_minor": 5
}
